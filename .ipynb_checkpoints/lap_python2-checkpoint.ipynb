{
 "cells": [
  {
   "cell_type": "code",
   "execution_count": 5,
   "id": "122bbd93-62a9-4674-8560-cee4bbf8a961",
   "metadata": {},
   "outputs": [
    {
     "name": "stdout",
     "output_type": "stream",
     "text": [
      "I recommended it, It is good\n"
     ]
    }
   ],
   "source": [
    "movie = \"film\"\n",
    "rate = 3\n",
    "score = 72.65\n",
    "\n",
    "\n",
    "if rate >= 4 and score >= 80:\n",
    "    print(\"Highly recommended\")\n",
    "\n",
    "elif rate >= 3 and score >= 70:\n",
    "    print(\"I recommended it, It is good\")\n",
    "\n",
    "elif rate >= 2 and score >= 60:\n",
    "    print(\"You should check it out!\")\n",
    "\n",
    "else:\n",
    "    print(\"Don't watch it, It is a waste of time\")"
   ]
  },
  {
   "cell_type": "code",
   "execution_count": null,
   "id": "66335dc5-3f79-4d21-b471-85eb668cc68d",
   "metadata": {},
   "outputs": [],
   "source": []
  }
 ],
 "metadata": {
  "kernelspec": {
   "display_name": "Python 3 (ipykernel)",
   "language": "python",
   "name": "python3"
  },
  "language_info": {
   "codemirror_mode": {
    "name": "ipython",
    "version": 3
   },
   "file_extension": ".py",
   "mimetype": "text/x-python",
   "name": "python",
   "nbconvert_exporter": "python",
   "pygments_lexer": "ipython3",
   "version": "3.9.13"
  }
 },
 "nbformat": 4,
 "nbformat_minor": 5
}
