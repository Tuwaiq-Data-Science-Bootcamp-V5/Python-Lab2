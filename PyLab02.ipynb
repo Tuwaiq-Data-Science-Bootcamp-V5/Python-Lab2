{
  "nbformat": 4,
  "nbformat_minor": 0,
  "metadata": {
    "colab": {
      "provenance": []
    },
    "kernelspec": {
      "name": "python3",
      "display_name": "Python 3"
    },
    "language_info": {
      "name": "python"
    }
  },
  "cells": [
    {
      "cell_type": "code",
      "execution_count": 1,
      "metadata": {
        "id": "lEYnE83BOVN6"
      },
      "outputs": [],
      "source": [
        "favMovie = 'Interstellar'"
      ]
    },
    {
      "cell_type": "code",
      "source": [
        "movRate = int(3) #its solid 10/10"
      ],
      "metadata": {
        "id": "YmHxjOhdOfHO"
      },
      "execution_count": 2,
      "outputs": []
    },
    {
      "cell_type": "code",
      "source": [
        "popularityScore = float(72.65)"
      ],
      "metadata": {
        "id": "jzKI6PGsO8NR"
      },
      "execution_count": 3,
      "outputs": []
    },
    {
      "cell_type": "code",
      "source": [
        "if movRate >= 4 and popularityScore > 80:\n",
        " print(\"Highly recommended\") #for sure\n",
        "elif movRate >= 3 and popularityScore > 70:\n",
        " print(\"I recommended it, It is good\")\n",
        "elif movRate <= 2 and popularityScore > 60:\n",
        " print(\"You should check it out!\")\n",
        "elif movRate <= 2 and popularityScore < 50:\n",
        " print(\"Don't watch it, It is a waste of time\")"
      ],
      "metadata": {
        "colab": {
          "base_uri": "https://localhost:8080/"
        },
        "id": "WubQdg0fPxav",
        "outputId": "78420ac0-3819-4305-d319-0796f07d2fe7"
      },
      "execution_count": 9,
      "outputs": [
        {
          "output_type": "stream",
          "name": "stdout",
          "text": [
            "I recommended it, It is good\n"
          ]
        }
      ]
    },
    {
      "cell_type": "code",
      "source": [],
      "metadata": {
        "id": "0wsCQjjIRJ9Q"
      },
      "execution_count": null,
      "outputs": []
    }
  ]
}