{
 "cells": [
  {
   "cell_type": "code",
   "execution_count": 1,
   "id": "738e0543-ecd0-4ed7-9c4f-ef5da6b23770",
   "metadata": {},
   "outputs": [],
   "source": [
    "n_m=\"interstellar\""
   ]
  },
  {
   "cell_type": "code",
   "execution_count": 2,
   "id": "381aa9b6-0590-43e2-aa48-b458aa09d7b1",
   "metadata": {},
   "outputs": [],
   "source": [
    "r=3"
   ]
  },
  {
   "cell_type": "code",
   "execution_count": 3,
   "id": "7bfe6f8f-1e73-45aa-8c9a-89da1b2dfd23",
   "metadata": {},
   "outputs": [],
   "source": [
    "score = 72.65"
   ]
  },
  {
   "cell_type": "code",
   "execution_count": 4,
   "id": "a69acb50-5c75-4228-9863-4a8bda2cc290",
   "metadata": {},
   "outputs": [
    {
     "name": "stdout",
     "output_type": "stream",
     "text": [
      "I recommended it, It is good\n"
     ]
    }
   ],
   "source": [
    "if r>=4 and score>80:\n",
    "    print(\"Highly recommended\")\n",
    "elif r>=3 and score>70:\n",
    "    print(\"I recommended it, It is good\")\n",
    "elif r<=2 and score>60:\n",
    "    print(\"You should check it out!\")\n",
    "elif r<=2 and score<50:\n",
    "    print(\"Don't watch it, It is a waste of time\")\n"
   ]
  }
 ],
 "metadata": {
  "kernelspec": {
   "display_name": "Python 3 (ipykernel)",
   "language": "python",
   "name": "python3"
  },
  "language_info": {
   "codemirror_mode": {
    "name": "ipython",
    "version": 3
   },
   "file_extension": ".py",
   "mimetype": "text/x-python",
   "name": "python",
   "nbconvert_exporter": "python",
   "pygments_lexer": "ipython3",
   "version": "3.10.11"
  }
 },
 "nbformat": 4,
 "nbformat_minor": 5
}
