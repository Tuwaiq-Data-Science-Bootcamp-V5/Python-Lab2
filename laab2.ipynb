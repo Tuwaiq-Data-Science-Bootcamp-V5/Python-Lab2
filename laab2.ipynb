{
 "cells": [
  {
   "cell_type": "code",
   "execution_count": 1,
   "id": "ae88dc28",
   "metadata": {},
   "outputs": [
    {
     "name": "stdout",
     "output_type": "stream",
     "text": [
      "1\n"
     ]
    }
   ],
   "source": [
    "print(1)"
   ]
  },
  {
   "cell_type": "code",
   "execution_count": 2,
   "id": "d4d4b197",
   "metadata": {},
   "outputs": [],
   "source": [
    "x= \"the shawshank redmtion\""
   ]
  },
  {
   "cell_type": "code",
   "execution_count": 3,
   "id": "b735b9e0",
   "metadata": {},
   "outputs": [
    {
     "name": "stdout",
     "output_type": "stream",
     "text": [
      "the shawshank redmtion\n"
     ]
    }
   ],
   "source": [
    "print (x)"
   ]
  },
  {
   "cell_type": "code",
   "execution_count": 4,
   "id": "9b7c525f",
   "metadata": {},
   "outputs": [
    {
     "name": "stdout",
     "output_type": "stream",
     "text": [
      "3\n"
     ]
    }
   ],
   "source": [
    "movie_rating = \"3\"\n",
    "print (movie_rating)"
   ]
  },
  {
   "cell_type": "code",
   "execution_count": 6,
   "id": "af6c41e9",
   "metadata": {},
   "outputs": [
    {
     "name": "stdout",
     "output_type": "stream",
     "text": [
      "3\n"
     ]
    }
   ],
   "source": [
    "movie_rating= int(3)\n",
    "print (movie_rating)"
   ]
  },
  {
   "cell_type": "code",
   "execution_count": 7,
   "id": "481028fd",
   "metadata": {},
   "outputs": [
    {
     "name": "stdout",
     "output_type": "stream",
     "text": [
      "72.56\n"
     ]
    }
   ],
   "source": [
    "popularity_score= float(72.56)\n",
    "print (popularity_score)"
   ]
  },
  {
   "cell_type": "code",
   "execution_count": 31,
   "id": "16973035",
   "metadata": {},
   "outputs": [
    {
     "name": "stdout",
     "output_type": "stream",
     "text": [
      "i reccomended it , it is good \n"
     ]
    }
   ],
   "source": [
    "if movie_rating >= 4 and popularity_score >= 80 :\n",
    "    print(\"highly recommended \")\n",
    "elif movie_rating >= 3 and popularity_score >= 70 :\n",
    "     print(\"i reccomended it , it is good \")\n",
    "elif movie_rating >=2 and popularity_score >=60 :\n",
    "     print(\"Dont watch it , it is a waste of time\")\n",
    "\n",
    "    "
   ]
  },
  {
   "cell_type": "code",
   "execution_count": null,
   "id": "5b050a9e",
   "metadata": {},
   "outputs": [],
   "source": []
  },
  {
   "cell_type": "code",
   "execution_count": null,
   "id": "7d760080",
   "metadata": {},
   "outputs": [],
   "source": []
  }
 ],
 "metadata": {
  "kernelspec": {
   "display_name": "Python 3 (ipykernel)",
   "language": "python",
   "name": "python3"
  },
  "language_info": {
   "codemirror_mode": {
    "name": "ipython",
    "version": 3
   },
   "file_extension": ".py",
   "mimetype": "text/x-python",
   "name": "python",
   "nbconvert_exporter": "python",
   "pygments_lexer": "ipython3",
   "version": "3.11.5"
  }
 },
 "nbformat": 4,
 "nbformat_minor": 5
}
